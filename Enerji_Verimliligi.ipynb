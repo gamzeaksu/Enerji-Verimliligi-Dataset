{
 "cells": [
  {
   "cell_type": "markdown",
   "metadata": {},
   "source": [
    "# Binaların Enerji Verimliliği\n",
    "\n",
    "Bu proje içerisinde binaların ısıtma ve soğutma yükü tahmin edilmeye çalışılacaktır.\n",
    "\n",
    "Veri Seti Link: https://www.kaggle.com/elikplim/eergy-efficiency-dataset"
   ]
  },
  {
   "cell_type": "code",
   "execution_count": 1,
   "metadata": {},
   "outputs": [],
   "source": [
    "import numpy as np\n",
    "import pandas as pd\n",
    "import matplotlib.pyplot as plt"
   ]
  },
  {
   "cell_type": "code",
   "execution_count": 2,
   "metadata": {},
   "outputs": [
    {
     "data": {
      "text/html": [
       "<div>\n",
       "<style scoped>\n",
       "    .dataframe tbody tr th:only-of-type {\n",
       "        vertical-align: middle;\n",
       "    }\n",
       "\n",
       "    .dataframe tbody tr th {\n",
       "        vertical-align: top;\n",
       "    }\n",
       "\n",
       "    .dataframe thead th {\n",
       "        text-align: right;\n",
       "    }\n",
       "</style>\n",
       "<table border=\"1\" class=\"dataframe\">\n",
       "  <thead>\n",
       "    <tr style=\"text-align: right;\">\n",
       "      <th></th>\n",
       "      <th>X1</th>\n",
       "      <th>X2</th>\n",
       "      <th>X3</th>\n",
       "      <th>X4</th>\n",
       "      <th>X5</th>\n",
       "      <th>X6</th>\n",
       "      <th>X7</th>\n",
       "      <th>X8</th>\n",
       "      <th>Y1</th>\n",
       "      <th>Y2</th>\n",
       "    </tr>\n",
       "  </thead>\n",
       "  <tbody>\n",
       "    <tr>\n",
       "      <th>0</th>\n",
       "      <td>0.98</td>\n",
       "      <td>514.5</td>\n",
       "      <td>294.0</td>\n",
       "      <td>110.25</td>\n",
       "      <td>7.0</td>\n",
       "      <td>2</td>\n",
       "      <td>0.0</td>\n",
       "      <td>0</td>\n",
       "      <td>15.55</td>\n",
       "      <td>21.33</td>\n",
       "    </tr>\n",
       "    <tr>\n",
       "      <th>1</th>\n",
       "      <td>0.98</td>\n",
       "      <td>514.5</td>\n",
       "      <td>294.0</td>\n",
       "      <td>110.25</td>\n",
       "      <td>7.0</td>\n",
       "      <td>3</td>\n",
       "      <td>0.0</td>\n",
       "      <td>0</td>\n",
       "      <td>15.55</td>\n",
       "      <td>21.33</td>\n",
       "    </tr>\n",
       "    <tr>\n",
       "      <th>2</th>\n",
       "      <td>0.98</td>\n",
       "      <td>514.5</td>\n",
       "      <td>294.0</td>\n",
       "      <td>110.25</td>\n",
       "      <td>7.0</td>\n",
       "      <td>4</td>\n",
       "      <td>0.0</td>\n",
       "      <td>0</td>\n",
       "      <td>15.55</td>\n",
       "      <td>21.33</td>\n",
       "    </tr>\n",
       "    <tr>\n",
       "      <th>3</th>\n",
       "      <td>0.98</td>\n",
       "      <td>514.5</td>\n",
       "      <td>294.0</td>\n",
       "      <td>110.25</td>\n",
       "      <td>7.0</td>\n",
       "      <td>5</td>\n",
       "      <td>0.0</td>\n",
       "      <td>0</td>\n",
       "      <td>15.55</td>\n",
       "      <td>21.33</td>\n",
       "    </tr>\n",
       "    <tr>\n",
       "      <th>4</th>\n",
       "      <td>0.90</td>\n",
       "      <td>563.5</td>\n",
       "      <td>318.5</td>\n",
       "      <td>122.50</td>\n",
       "      <td>7.0</td>\n",
       "      <td>2</td>\n",
       "      <td>0.0</td>\n",
       "      <td>0</td>\n",
       "      <td>20.84</td>\n",
       "      <td>28.28</td>\n",
       "    </tr>\n",
       "  </tbody>\n",
       "</table>\n",
       "</div>"
      ],
      "text/plain": [
       "     X1     X2     X3      X4   X5  X6   X7  X8     Y1     Y2\n",
       "0  0.98  514.5  294.0  110.25  7.0   2  0.0   0  15.55  21.33\n",
       "1  0.98  514.5  294.0  110.25  7.0   3  0.0   0  15.55  21.33\n",
       "2  0.98  514.5  294.0  110.25  7.0   4  0.0   0  15.55  21.33\n",
       "3  0.98  514.5  294.0  110.25  7.0   5  0.0   0  15.55  21.33\n",
       "4  0.90  563.5  318.5  122.50  7.0   2  0.0   0  20.84  28.28"
      ]
     },
     "execution_count": 2,
     "metadata": {},
     "output_type": "execute_result"
    }
   ],
   "source": [
    "data = pd.read_csv(\"ENB2012_data.csv\")\n",
    "data.head()"
   ]
  },
  {
   "cell_type": "code",
   "execution_count": 3,
   "metadata": {},
   "outputs": [],
   "source": [
    "data.columns = [\"Relative Compactness\", \n",
    "                 \"Surface Area\", \n",
    "                 \"Wall Area\", \n",
    "                 \"Roof Area\", \n",
    "                 \"Overall Height\",\n",
    "                 \"Orientation\", \n",
    "                 \"Glazing Area\", \n",
    "                 \"Glazing Area Distribution\",\n",
    "                 \"Heating Load\",\n",
    "                 \"Cooling Load\"]"
   ]
  },
  {
   "cell_type": "code",
   "execution_count": 4,
   "metadata": {},
   "outputs": [
    {
     "data": {
      "text/html": [
       "<div>\n",
       "<style scoped>\n",
       "    .dataframe tbody tr th:only-of-type {\n",
       "        vertical-align: middle;\n",
       "    }\n",
       "\n",
       "    .dataframe tbody tr th {\n",
       "        vertical-align: top;\n",
       "    }\n",
       "\n",
       "    .dataframe thead th {\n",
       "        text-align: right;\n",
       "    }\n",
       "</style>\n",
       "<table border=\"1\" class=\"dataframe\">\n",
       "  <thead>\n",
       "    <tr style=\"text-align: right;\">\n",
       "      <th></th>\n",
       "      <th>Relative Compactness</th>\n",
       "      <th>Surface Area</th>\n",
       "      <th>Wall Area</th>\n",
       "      <th>Roof Area</th>\n",
       "      <th>Overall Height</th>\n",
       "      <th>Orientation</th>\n",
       "      <th>Glazing Area</th>\n",
       "      <th>Glazing Area Distribution</th>\n",
       "      <th>Heating Load</th>\n",
       "      <th>Cooling Load</th>\n",
       "    </tr>\n",
       "  </thead>\n",
       "  <tbody>\n",
       "    <tr>\n",
       "      <th>0</th>\n",
       "      <td>0.98</td>\n",
       "      <td>514.5</td>\n",
       "      <td>294.0</td>\n",
       "      <td>110.25</td>\n",
       "      <td>7.0</td>\n",
       "      <td>2</td>\n",
       "      <td>0.0</td>\n",
       "      <td>0</td>\n",
       "      <td>15.55</td>\n",
       "      <td>21.33</td>\n",
       "    </tr>\n",
       "    <tr>\n",
       "      <th>1</th>\n",
       "      <td>0.98</td>\n",
       "      <td>514.5</td>\n",
       "      <td>294.0</td>\n",
       "      <td>110.25</td>\n",
       "      <td>7.0</td>\n",
       "      <td>3</td>\n",
       "      <td>0.0</td>\n",
       "      <td>0</td>\n",
       "      <td>15.55</td>\n",
       "      <td>21.33</td>\n",
       "    </tr>\n",
       "    <tr>\n",
       "      <th>2</th>\n",
       "      <td>0.98</td>\n",
       "      <td>514.5</td>\n",
       "      <td>294.0</td>\n",
       "      <td>110.25</td>\n",
       "      <td>7.0</td>\n",
       "      <td>4</td>\n",
       "      <td>0.0</td>\n",
       "      <td>0</td>\n",
       "      <td>15.55</td>\n",
       "      <td>21.33</td>\n",
       "    </tr>\n",
       "    <tr>\n",
       "      <th>3</th>\n",
       "      <td>0.98</td>\n",
       "      <td>514.5</td>\n",
       "      <td>294.0</td>\n",
       "      <td>110.25</td>\n",
       "      <td>7.0</td>\n",
       "      <td>5</td>\n",
       "      <td>0.0</td>\n",
       "      <td>0</td>\n",
       "      <td>15.55</td>\n",
       "      <td>21.33</td>\n",
       "    </tr>\n",
       "    <tr>\n",
       "      <th>4</th>\n",
       "      <td>0.90</td>\n",
       "      <td>563.5</td>\n",
       "      <td>318.5</td>\n",
       "      <td>122.50</td>\n",
       "      <td>7.0</td>\n",
       "      <td>2</td>\n",
       "      <td>0.0</td>\n",
       "      <td>0</td>\n",
       "      <td>20.84</td>\n",
       "      <td>28.28</td>\n",
       "    </tr>\n",
       "  </tbody>\n",
       "</table>\n",
       "</div>"
      ],
      "text/plain": [
       "   Relative Compactness  Surface Area  Wall Area  Roof Area  Overall Height  \\\n",
       "0                  0.98         514.5      294.0     110.25             7.0   \n",
       "1                  0.98         514.5      294.0     110.25             7.0   \n",
       "2                  0.98         514.5      294.0     110.25             7.0   \n",
       "3                  0.98         514.5      294.0     110.25             7.0   \n",
       "4                  0.90         563.5      318.5     122.50             7.0   \n",
       "\n",
       "   Orientation  Glazing Area  Glazing Area Distribution  Heating Load  \\\n",
       "0            2           0.0                          0         15.55   \n",
       "1            3           0.0                          0         15.55   \n",
       "2            4           0.0                          0         15.55   \n",
       "3            5           0.0                          0         15.55   \n",
       "4            2           0.0                          0         20.84   \n",
       "\n",
       "   Cooling Load  \n",
       "0         21.33  \n",
       "1         21.33  \n",
       "2         21.33  \n",
       "3         21.33  \n",
       "4         28.28  "
      ]
     },
     "execution_count": 4,
     "metadata": {},
     "output_type": "execute_result"
    }
   ],
   "source": [
    "data.head()"
   ]
  },
  {
   "cell_type": "code",
   "execution_count": 5,
   "metadata": {},
   "outputs": [
    {
     "data": {
      "text/plain": [
       "(768, 10)"
      ]
     },
     "execution_count": 5,
     "metadata": {},
     "output_type": "execute_result"
    }
   ],
   "source": [
    "data.shape"
   ]
  },
  {
   "cell_type": "code",
   "execution_count": 6,
   "metadata": {},
   "outputs": [
    {
     "name": "stdout",
     "output_type": "stream",
     "text": [
      "<class 'pandas.core.frame.DataFrame'>\n",
      "RangeIndex: 768 entries, 0 to 767\n",
      "Data columns (total 10 columns):\n",
      " #   Column                     Non-Null Count  Dtype  \n",
      "---  ------                     --------------  -----  \n",
      " 0   Relative Compactness       768 non-null    float64\n",
      " 1   Surface Area               768 non-null    float64\n",
      " 2   Wall Area                  768 non-null    float64\n",
      " 3   Roof Area                  768 non-null    float64\n",
      " 4   Overall Height             768 non-null    float64\n",
      " 5   Orientation                768 non-null    int64  \n",
      " 6   Glazing Area               768 non-null    float64\n",
      " 7   Glazing Area Distribution  768 non-null    int64  \n",
      " 8   Heating Load               768 non-null    float64\n",
      " 9   Cooling Load               768 non-null    float64\n",
      "dtypes: float64(8), int64(2)\n",
      "memory usage: 60.1 KB\n"
     ]
    }
   ],
   "source": [
    "data.info()"
   ]
  },
  {
   "cell_type": "code",
   "execution_count": 7,
   "metadata": {},
   "outputs": [
    {
     "data": {
      "text/html": [
       "<div>\n",
       "<style scoped>\n",
       "    .dataframe tbody tr th:only-of-type {\n",
       "        vertical-align: middle;\n",
       "    }\n",
       "\n",
       "    .dataframe tbody tr th {\n",
       "        vertical-align: top;\n",
       "    }\n",
       "\n",
       "    .dataframe thead th {\n",
       "        text-align: right;\n",
       "    }\n",
       "</style>\n",
       "<table border=\"1\" class=\"dataframe\">\n",
       "  <thead>\n",
       "    <tr style=\"text-align: right;\">\n",
       "      <th></th>\n",
       "      <th>Relative Compactness</th>\n",
       "      <th>Surface Area</th>\n",
       "      <th>Wall Area</th>\n",
       "      <th>Roof Area</th>\n",
       "      <th>Overall Height</th>\n",
       "      <th>Orientation</th>\n",
       "      <th>Glazing Area</th>\n",
       "      <th>Glazing Area Distribution</th>\n",
       "      <th>Heating Load</th>\n",
       "      <th>Cooling Load</th>\n",
       "    </tr>\n",
       "  </thead>\n",
       "  <tbody>\n",
       "    <tr>\n",
       "      <th>count</th>\n",
       "      <td>768.000000</td>\n",
       "      <td>768.000000</td>\n",
       "      <td>768.000000</td>\n",
       "      <td>768.000000</td>\n",
       "      <td>768.00000</td>\n",
       "      <td>768.000000</td>\n",
       "      <td>768.000000</td>\n",
       "      <td>768.00000</td>\n",
       "      <td>768.000000</td>\n",
       "      <td>768.000000</td>\n",
       "    </tr>\n",
       "    <tr>\n",
       "      <th>mean</th>\n",
       "      <td>0.764167</td>\n",
       "      <td>671.708333</td>\n",
       "      <td>318.500000</td>\n",
       "      <td>176.604167</td>\n",
       "      <td>5.25000</td>\n",
       "      <td>3.500000</td>\n",
       "      <td>0.234375</td>\n",
       "      <td>2.81250</td>\n",
       "      <td>22.307201</td>\n",
       "      <td>24.587760</td>\n",
       "    </tr>\n",
       "    <tr>\n",
       "      <th>std</th>\n",
       "      <td>0.105777</td>\n",
       "      <td>88.086116</td>\n",
       "      <td>43.626481</td>\n",
       "      <td>45.165950</td>\n",
       "      <td>1.75114</td>\n",
       "      <td>1.118763</td>\n",
       "      <td>0.133221</td>\n",
       "      <td>1.55096</td>\n",
       "      <td>10.090196</td>\n",
       "      <td>9.513306</td>\n",
       "    </tr>\n",
       "    <tr>\n",
       "      <th>min</th>\n",
       "      <td>0.620000</td>\n",
       "      <td>514.500000</td>\n",
       "      <td>245.000000</td>\n",
       "      <td>110.250000</td>\n",
       "      <td>3.50000</td>\n",
       "      <td>2.000000</td>\n",
       "      <td>0.000000</td>\n",
       "      <td>0.00000</td>\n",
       "      <td>6.010000</td>\n",
       "      <td>10.900000</td>\n",
       "    </tr>\n",
       "    <tr>\n",
       "      <th>25%</th>\n",
       "      <td>0.682500</td>\n",
       "      <td>606.375000</td>\n",
       "      <td>294.000000</td>\n",
       "      <td>140.875000</td>\n",
       "      <td>3.50000</td>\n",
       "      <td>2.750000</td>\n",
       "      <td>0.100000</td>\n",
       "      <td>1.75000</td>\n",
       "      <td>12.992500</td>\n",
       "      <td>15.620000</td>\n",
       "    </tr>\n",
       "    <tr>\n",
       "      <th>50%</th>\n",
       "      <td>0.750000</td>\n",
       "      <td>673.750000</td>\n",
       "      <td>318.500000</td>\n",
       "      <td>183.750000</td>\n",
       "      <td>5.25000</td>\n",
       "      <td>3.500000</td>\n",
       "      <td>0.250000</td>\n",
       "      <td>3.00000</td>\n",
       "      <td>18.950000</td>\n",
       "      <td>22.080000</td>\n",
       "    </tr>\n",
       "    <tr>\n",
       "      <th>75%</th>\n",
       "      <td>0.830000</td>\n",
       "      <td>741.125000</td>\n",
       "      <td>343.000000</td>\n",
       "      <td>220.500000</td>\n",
       "      <td>7.00000</td>\n",
       "      <td>4.250000</td>\n",
       "      <td>0.400000</td>\n",
       "      <td>4.00000</td>\n",
       "      <td>31.667500</td>\n",
       "      <td>33.132500</td>\n",
       "    </tr>\n",
       "    <tr>\n",
       "      <th>max</th>\n",
       "      <td>0.980000</td>\n",
       "      <td>808.500000</td>\n",
       "      <td>416.500000</td>\n",
       "      <td>220.500000</td>\n",
       "      <td>7.00000</td>\n",
       "      <td>5.000000</td>\n",
       "      <td>0.400000</td>\n",
       "      <td>5.00000</td>\n",
       "      <td>43.100000</td>\n",
       "      <td>48.030000</td>\n",
       "    </tr>\n",
       "  </tbody>\n",
       "</table>\n",
       "</div>"
      ],
      "text/plain": [
       "       Relative Compactness  Surface Area   Wall Area   Roof Area  \\\n",
       "count            768.000000    768.000000  768.000000  768.000000   \n",
       "mean               0.764167    671.708333  318.500000  176.604167   \n",
       "std                0.105777     88.086116   43.626481   45.165950   \n",
       "min                0.620000    514.500000  245.000000  110.250000   \n",
       "25%                0.682500    606.375000  294.000000  140.875000   \n",
       "50%                0.750000    673.750000  318.500000  183.750000   \n",
       "75%                0.830000    741.125000  343.000000  220.500000   \n",
       "max                0.980000    808.500000  416.500000  220.500000   \n",
       "\n",
       "       Overall Height  Orientation  Glazing Area  Glazing Area Distribution  \\\n",
       "count       768.00000   768.000000    768.000000                  768.00000   \n",
       "mean          5.25000     3.500000      0.234375                    2.81250   \n",
       "std           1.75114     1.118763      0.133221                    1.55096   \n",
       "min           3.50000     2.000000      0.000000                    0.00000   \n",
       "25%           3.50000     2.750000      0.100000                    1.75000   \n",
       "50%           5.25000     3.500000      0.250000                    3.00000   \n",
       "75%           7.00000     4.250000      0.400000                    4.00000   \n",
       "max           7.00000     5.000000      0.400000                    5.00000   \n",
       "\n",
       "       Heating Load  Cooling Load  \n",
       "count    768.000000    768.000000  \n",
       "mean      22.307201     24.587760  \n",
       "std       10.090196      9.513306  \n",
       "min        6.010000     10.900000  \n",
       "25%       12.992500     15.620000  \n",
       "50%       18.950000     22.080000  \n",
       "75%       31.667500     33.132500  \n",
       "max       43.100000     48.030000  "
      ]
     },
     "execution_count": 7,
     "metadata": {},
     "output_type": "execute_result"
    }
   ],
   "source": [
    "data.describe()"
   ]
  },
  {
   "cell_type": "code",
   "execution_count": 8,
   "metadata": {},
   "outputs": [
    {
     "data": {
      "text/plain": [
       "Index(['Relative Compactness', 'Surface Area', 'Wall Area', 'Roof Area',\n",
       "       'Overall Height', 'Orientation', 'Glazing Area',\n",
       "       'Glazing Area Distribution', 'Heating Load', 'Cooling Load'],\n",
       "      dtype='object')"
      ]
     },
     "execution_count": 8,
     "metadata": {},
     "output_type": "execute_result"
    }
   ],
   "source": [
    "data.describe().columns  #Kategorik veri yok"
   ]
  },
  {
   "cell_type": "code",
   "execution_count": 9,
   "metadata": {},
   "outputs": [
    {
     "data": {
      "text/html": [
       "<div>\n",
       "<style scoped>\n",
       "    .dataframe tbody tr th:only-of-type {\n",
       "        vertical-align: middle;\n",
       "    }\n",
       "\n",
       "    .dataframe tbody tr th {\n",
       "        vertical-align: top;\n",
       "    }\n",
       "\n",
       "    .dataframe thead th {\n",
       "        text-align: right;\n",
       "    }\n",
       "</style>\n",
       "<table border=\"1\" class=\"dataframe\">\n",
       "  <thead>\n",
       "    <tr style=\"text-align: right;\">\n",
       "      <th></th>\n",
       "      <th>Relative Compactness</th>\n",
       "      <th>Surface Area</th>\n",
       "      <th>Wall Area</th>\n",
       "      <th>Roof Area</th>\n",
       "      <th>Overall Height</th>\n",
       "      <th>Orientation</th>\n",
       "      <th>Glazing Area</th>\n",
       "      <th>Glazing Area Distribution</th>\n",
       "      <th>Heating Load</th>\n",
       "      <th>Cooling Load</th>\n",
       "    </tr>\n",
       "  </thead>\n",
       "  <tbody>\n",
       "    <tr>\n",
       "      <th>Relative Compactness</th>\n",
       "      <td>1.000000e+00</td>\n",
       "      <td>-9.919015e-01</td>\n",
       "      <td>-2.037817e-01</td>\n",
       "      <td>-8.688234e-01</td>\n",
       "      <td>8.277473e-01</td>\n",
       "      <td>0.000000</td>\n",
       "      <td>1.283986e-17</td>\n",
       "      <td>1.764620e-17</td>\n",
       "      <td>0.622272</td>\n",
       "      <td>0.634339</td>\n",
       "    </tr>\n",
       "    <tr>\n",
       "      <th>Surface Area</th>\n",
       "      <td>-9.919015e-01</td>\n",
       "      <td>1.000000e+00</td>\n",
       "      <td>1.955016e-01</td>\n",
       "      <td>8.807195e-01</td>\n",
       "      <td>-8.581477e-01</td>\n",
       "      <td>0.000000</td>\n",
       "      <td>1.318356e-16</td>\n",
       "      <td>-3.558613e-16</td>\n",
       "      <td>-0.658120</td>\n",
       "      <td>-0.672999</td>\n",
       "    </tr>\n",
       "    <tr>\n",
       "      <th>Wall Area</th>\n",
       "      <td>-2.037817e-01</td>\n",
       "      <td>1.955016e-01</td>\n",
       "      <td>1.000000e+00</td>\n",
       "      <td>-2.923165e-01</td>\n",
       "      <td>2.809757e-01</td>\n",
       "      <td>0.000000</td>\n",
       "      <td>-7.969726e-19</td>\n",
       "      <td>0.000000e+00</td>\n",
       "      <td>0.455671</td>\n",
       "      <td>0.427117</td>\n",
       "    </tr>\n",
       "    <tr>\n",
       "      <th>Roof Area</th>\n",
       "      <td>-8.688234e-01</td>\n",
       "      <td>8.807195e-01</td>\n",
       "      <td>-2.923165e-01</td>\n",
       "      <td>1.000000e+00</td>\n",
       "      <td>-9.725122e-01</td>\n",
       "      <td>0.000000</td>\n",
       "      <td>-1.381805e-16</td>\n",
       "      <td>-1.079129e-16</td>\n",
       "      <td>-0.861828</td>\n",
       "      <td>-0.862547</td>\n",
       "    </tr>\n",
       "    <tr>\n",
       "      <th>Overall Height</th>\n",
       "      <td>8.277473e-01</td>\n",
       "      <td>-8.581477e-01</td>\n",
       "      <td>2.809757e-01</td>\n",
       "      <td>-9.725122e-01</td>\n",
       "      <td>1.000000e+00</td>\n",
       "      <td>0.000000</td>\n",
       "      <td>1.861418e-18</td>\n",
       "      <td>0.000000e+00</td>\n",
       "      <td>0.889431</td>\n",
       "      <td>0.895785</td>\n",
       "    </tr>\n",
       "    <tr>\n",
       "      <th>Orientation</th>\n",
       "      <td>0.000000e+00</td>\n",
       "      <td>0.000000e+00</td>\n",
       "      <td>0.000000e+00</td>\n",
       "      <td>0.000000e+00</td>\n",
       "      <td>0.000000e+00</td>\n",
       "      <td>1.000000</td>\n",
       "      <td>0.000000e+00</td>\n",
       "      <td>0.000000e+00</td>\n",
       "      <td>-0.002587</td>\n",
       "      <td>0.014290</td>\n",
       "    </tr>\n",
       "    <tr>\n",
       "      <th>Glazing Area</th>\n",
       "      <td>1.283986e-17</td>\n",
       "      <td>1.318356e-16</td>\n",
       "      <td>-7.969726e-19</td>\n",
       "      <td>-1.381805e-16</td>\n",
       "      <td>1.861418e-18</td>\n",
       "      <td>0.000000</td>\n",
       "      <td>1.000000e+00</td>\n",
       "      <td>2.129642e-01</td>\n",
       "      <td>0.269841</td>\n",
       "      <td>0.207505</td>\n",
       "    </tr>\n",
       "    <tr>\n",
       "      <th>Glazing Area Distribution</th>\n",
       "      <td>1.764620e-17</td>\n",
       "      <td>-3.558613e-16</td>\n",
       "      <td>0.000000e+00</td>\n",
       "      <td>-1.079129e-16</td>\n",
       "      <td>0.000000e+00</td>\n",
       "      <td>0.000000</td>\n",
       "      <td>2.129642e-01</td>\n",
       "      <td>1.000000e+00</td>\n",
       "      <td>0.087368</td>\n",
       "      <td>0.050525</td>\n",
       "    </tr>\n",
       "    <tr>\n",
       "      <th>Heating Load</th>\n",
       "      <td>6.222722e-01</td>\n",
       "      <td>-6.581202e-01</td>\n",
       "      <td>4.556712e-01</td>\n",
       "      <td>-8.618283e-01</td>\n",
       "      <td>8.894307e-01</td>\n",
       "      <td>-0.002587</td>\n",
       "      <td>2.698410e-01</td>\n",
       "      <td>8.736759e-02</td>\n",
       "      <td>1.000000</td>\n",
       "      <td>0.975862</td>\n",
       "    </tr>\n",
       "    <tr>\n",
       "      <th>Cooling Load</th>\n",
       "      <td>6.343391e-01</td>\n",
       "      <td>-6.729989e-01</td>\n",
       "      <td>4.271170e-01</td>\n",
       "      <td>-8.625466e-01</td>\n",
       "      <td>8.957852e-01</td>\n",
       "      <td>0.014290</td>\n",
       "      <td>2.075050e-01</td>\n",
       "      <td>5.052512e-02</td>\n",
       "      <td>0.975862</td>\n",
       "      <td>1.000000</td>\n",
       "    </tr>\n",
       "  </tbody>\n",
       "</table>\n",
       "</div>"
      ],
      "text/plain": [
       "                           Relative Compactness  Surface Area     Wall Area  \\\n",
       "Relative Compactness               1.000000e+00 -9.919015e-01 -2.037817e-01   \n",
       "Surface Area                      -9.919015e-01  1.000000e+00  1.955016e-01   \n",
       "Wall Area                         -2.037817e-01  1.955016e-01  1.000000e+00   \n",
       "Roof Area                         -8.688234e-01  8.807195e-01 -2.923165e-01   \n",
       "Overall Height                     8.277473e-01 -8.581477e-01  2.809757e-01   \n",
       "Orientation                        0.000000e+00  0.000000e+00  0.000000e+00   \n",
       "Glazing Area                       1.283986e-17  1.318356e-16 -7.969726e-19   \n",
       "Glazing Area Distribution          1.764620e-17 -3.558613e-16  0.000000e+00   \n",
       "Heating Load                       6.222722e-01 -6.581202e-01  4.556712e-01   \n",
       "Cooling Load                       6.343391e-01 -6.729989e-01  4.271170e-01   \n",
       "\n",
       "                              Roof Area  Overall Height  Orientation  \\\n",
       "Relative Compactness      -8.688234e-01    8.277473e-01     0.000000   \n",
       "Surface Area               8.807195e-01   -8.581477e-01     0.000000   \n",
       "Wall Area                 -2.923165e-01    2.809757e-01     0.000000   \n",
       "Roof Area                  1.000000e+00   -9.725122e-01     0.000000   \n",
       "Overall Height            -9.725122e-01    1.000000e+00     0.000000   \n",
       "Orientation                0.000000e+00    0.000000e+00     1.000000   \n",
       "Glazing Area              -1.381805e-16    1.861418e-18     0.000000   \n",
       "Glazing Area Distribution -1.079129e-16    0.000000e+00     0.000000   \n",
       "Heating Load              -8.618283e-01    8.894307e-01    -0.002587   \n",
       "Cooling Load              -8.625466e-01    8.957852e-01     0.014290   \n",
       "\n",
       "                           Glazing Area  Glazing Area Distribution  \\\n",
       "Relative Compactness       1.283986e-17               1.764620e-17   \n",
       "Surface Area               1.318356e-16              -3.558613e-16   \n",
       "Wall Area                 -7.969726e-19               0.000000e+00   \n",
       "Roof Area                 -1.381805e-16              -1.079129e-16   \n",
       "Overall Height             1.861418e-18               0.000000e+00   \n",
       "Orientation                0.000000e+00               0.000000e+00   \n",
       "Glazing Area               1.000000e+00               2.129642e-01   \n",
       "Glazing Area Distribution  2.129642e-01               1.000000e+00   \n",
       "Heating Load               2.698410e-01               8.736759e-02   \n",
       "Cooling Load               2.075050e-01               5.052512e-02   \n",
       "\n",
       "                           Heating Load  Cooling Load  \n",
       "Relative Compactness           0.622272      0.634339  \n",
       "Surface Area                  -0.658120     -0.672999  \n",
       "Wall Area                      0.455671      0.427117  \n",
       "Roof Area                     -0.861828     -0.862547  \n",
       "Overall Height                 0.889431      0.895785  \n",
       "Orientation                   -0.002587      0.014290  \n",
       "Glazing Area                   0.269841      0.207505  \n",
       "Glazing Area Distribution      0.087368      0.050525  \n",
       "Heating Load                   1.000000      0.975862  \n",
       "Cooling Load                   0.975862      1.000000  "
      ]
     },
     "execution_count": 9,
     "metadata": {},
     "output_type": "execute_result"
    }
   ],
   "source": [
    "data.corr()"
   ]
  },
  {
   "cell_type": "code",
   "execution_count": 10,
   "metadata": {},
   "outputs": [
    {
     "data": {
      "text/plain": [
       "<matplotlib.axes._subplots.AxesSubplot at 0x1c4cf48e040>"
      ]
     },
     "execution_count": 10,
     "metadata": {},
     "output_type": "execute_result"
    },
    {
     "data": {
      "image/png": "[encoded data removed]",
      "text/plain": [
       "<Figure size 720x720 with 2 Axes>"
      ]
     },
     "metadata": {
      "needs_background": "light"
     },
     "output_type": "display_data"
    }
   ],
   "source": [
    "import seaborn as sns\n",
    "import matplotlib.pyplot as plt\n",
    "fig, ax = plt.subplots(figsize=(10,10))\n",
    "sns.heatmap(data.corr(),square=True,cmap=\"Blues\", linecolor='w',annot=True, ax=ax) "
   ]
  },
  {
   "cell_type": "code",
   "execution_count": 11,
   "metadata": {},
   "outputs": [
    {
     "data": {
      "text/plain": [
       "Relative Compactness         0\n",
       "Surface Area                 0\n",
       "Wall Area                    0\n",
       "Roof Area                    0\n",
       "Overall Height               0\n",
       "Orientation                  0\n",
       "Glazing Area                 0\n",
       "Glazing Area Distribution    0\n",
       "Heating Load                 0\n",
       "Cooling Load                 0\n",
       "dtype: int64"
      ]
     },
     "execution_count": 11,
     "metadata": {},
     "output_type": "execute_result"
    }
   ],
   "source": [
    "data.isnull().sum() #null değer yok"
   ]
  },
  {
   "cell_type": "code",
   "execution_count": 12,
   "metadata": {},
   "outputs": [
    {
     "data": {
      "image/png": "[encoded data removed]",
      "text/plain": [
       "<Figure size 432x288 with 1 Axes>"
      ]
     },
     "metadata": {
      "needs_background": "light"
     },
     "output_type": "display_data"
    },
    {
     "data": {
      "image/png": "[encoded data removed]",
      "text/plain": [
       "<Figure size 432x288 with 1 Axes>"
      ]
     },
     "metadata": {
      "needs_background": "light"
     },
     "output_type": "display_data"
    },
    {
     "data": {
      "image/png": "[encoded data removed]",
      "text/plain": [
       "<Figure size 432x288 with 1 Axes>"
      ]
     },
     "metadata": {
      "needs_background": "light"
     },
     "output_type": "display_data"
    },
    {
     "data": {
      "image/png": "[encoded data removed]",
      "text/plain": [
       "<Figure size 432x288 with 1 Axes>"
      ]
     },
     "metadata": {
      "needs_background": "light"
     },
     "output_type": "display_data"
    },
    {
     "data": {
      "image/png": "[encoded data removed]",
      "text/plain": [
       "<Figure size 432x288 with 1 Axes>"
      ]
     },
     "metadata": {
      "needs_background": "light"
     },
     "output_type": "display_data"
    },
    {
     "data": {
      "image/png": "[encoded data removed]",
      "text/plain": [
       "<Figure size 432x288 with 1 Axes>"
      ]
     },
     "metadata": {
      "needs_background": "light"
     },
     "output_type": "display_data"
    },
    {
     "data": {
      "image/png": "[encoded data removed]",
      "text/plain": [
       "<Figure size 432x288 with 1 Axes>"
      ]
     },
     "metadata": {
      "needs_background": "light"
     },
     "output_type": "display_data"
    },
    {
     "data": {
      "image/png": "[encoded data removed]",
      "text/plain": [
       "<Figure size 432x288 with 1 Axes>"
      ]
     },
     "metadata": {
      "needs_background": "light"
     },
     "output_type": "display_data"
    },
    {
     "data": {
      "image/png": "[encoded data removed]",
      "text/plain": [
       "<Figure size 432x288 with 1 Axes>"
      ]
     },
     "metadata": {
      "needs_background": "light"
     },
     "output_type": "display_data"
    },
    {
     "data": {
      "image/png": "[encoded data removed]",
      "text/plain": [
       "<Figure size 432x288 with 1 Axes>"
      ]
     },
     "metadata": {
      "needs_background": "light"
     },
     "output_type": "display_data"
    }
   ],
   "source": [
    "#outliers yok\n",
    "for col in data.columns:\n",
    "    sns.boxplot(data[col])\n",
    "    plt.show()"
   ]
  },
  {
   "cell_type": "code",
   "execution_count": 13,
   "metadata": {},
   "outputs": [],
   "source": [
    "def outliers(df, num_cols):\n",
    "    for col in num_cols:\n",
    "        Q1=df[col].quantile(0.05)\n",
    "        Q3=df[col].quantile(0.95)\n",
    "        IQR=Q3-Q1\n",
    "        lower_bound=Q1-1.5*IQR\n",
    "        upper_bound=Q3+1.5*IQR\n",
    "        df.loc[df[col]<lower_bound, col]=lower_bound\n",
    "        df.loc[df[col]>upper_bound, col]=upper_bound\n",
    "    return df"
   ]
  },
  {
   "cell_type": "code",
   "execution_count": 14,
   "metadata": {},
   "outputs": [],
   "source": [
    "df = data.copy()\n",
    "df = outliers(df,data.columns)"
   ]
  },
  {
   "cell_type": "code",
   "execution_count": 15,
   "metadata": {},
   "outputs": [
    {
     "data": {
      "text/plain": [
       "(768, 10)"
      ]
     },
     "execution_count": 15,
     "metadata": {},
     "output_type": "execute_result"
    }
   ],
   "source": [
    "df.shape"
   ]
  },
  {
   "cell_type": "code",
   "execution_count": 16,
   "metadata": {},
   "outputs": [
    {
     "data": {
      "text/plain": [
       "(768, 10)"
      ]
     },
     "execution_count": 16,
     "metadata": {},
     "output_type": "execute_result"
    }
   ],
   "source": [
    "data.shape"
   ]
  },
  {
   "cell_type": "code",
   "execution_count": 17,
   "metadata": {},
   "outputs": [],
   "source": [
    "y_heat = data['Heating Load'].values\n",
    "y_cool = data['Cooling Load'].values"
   ]
  },
  {
   "cell_type": "code",
   "execution_count": 18,
   "metadata": {},
   "outputs": [],
   "source": [
    "data.drop(['Heating Load','Cooling Load'],axis=1,inplace=True)"
   ]
  },
  {
   "cell_type": "code",
   "execution_count": 19,
   "metadata": {},
   "outputs": [],
   "source": [
    "x = data.values"
   ]
  },
  {
   "cell_type": "markdown",
   "metadata": {},
   "source": [
    "# Isıtma/Soğutma Yükü Tahmini"
   ]
  },
  {
   "cell_type": "code",
   "execution_count": 20,
   "metadata": {},
   "outputs": [],
   "source": [
    "from sklearn.model_selection import train_test_split\n",
    "from sklearn.linear_model import LinearRegression, Lasso, Ridge, ElasticNet\n",
    "from sklearn.metrics import mean_squared_error, r2_score\n",
    "\n",
    "x_train,x_test,y_train,y_test = train_test_split(x,y_heat,test_size=0.3,random_state = 1)\n",
    "X_train,X_test,Y_train,Y_test = train_test_split(x,y_cool,test_size=0.3,random_state = 1)"
   ]
  },
  {
   "cell_type": "code",
   "execution_count": 21,
   "metadata": {},
   "outputs": [
    {
     "name": "stdout",
     "output_type": "stream",
     "text": [
      "x_train shape: (537, 8)\n",
      "y_train shape: (537,)\n",
      "x_test shape: (231, 8)\n",
      "y_test sahpe: (231,)\n"
     ]
    }
   ],
   "source": [
    "print(\"x_train shape:\", x_train.shape)\n",
    "print(\"y_train shape:\", y_train.shape)\n",
    "print(\"x_test shape:\", x_test.shape)\n",
    "print(\"y_test sahpe:\", y_test.shape)\n"
   ]
  },
  {
   "cell_type": "code",
   "execution_count": 22,
   "metadata": {},
   "outputs": [],
   "source": [
    "def model(algo):\n",
    "    #ısıtma\n",
    "    m = algo().fit(x_train,y_train)\n",
    "    train_rmse = np.sqrt(mean_squared_error(y_train,m.predict(x_train)))\n",
    "    test_rmse = np.sqrt(mean_squared_error(y_test,m.predict(x_test)))\n",
    "    #soğutma\n",
    "    M = algo().fit(X_train,Y_train)\n",
    "    Train_rmse = np.sqrt(mean_squared_error(Y_train,M.predict(X_train)))\n",
    "    Test_rmse = np.sqrt(mean_squared_error(Y_test,M.predict(X_test)))\n",
    "    return ((type(algo()).__name__,train_rmse,test_rmse),\n",
    "            (type(algo()).__name__,Train_rmse,Test_rmse))\n"
   ]
  },
  {
   "cell_type": "code",
   "execution_count": 23,
   "metadata": {},
   "outputs": [],
   "source": [
    "algo = [LinearRegression,Lasso,Ridge,ElasticNet]\n",
    "res = {\"model\":[], \"train_rmse\":[], \"test_rmse\":[],\"heat-cool\":[]}\n",
    "\n",
    "for i in algo:\n",
    "    h,c = model(i)\n",
    "    res[\"model\"].append(h[0])\n",
    "    res[\"train_rmse\"].append(h[1])\n",
    "    res['test_rmse'].append(round(h[2],6))\n",
    "    res['heat-cool'].append(\"ısıtma\")\n",
    "    res[\"model\"].append(c[0])\n",
    "    res[\"train_rmse\"].append(c[1])\n",
    "    res['test_rmse'].append(round(c[2],6))\n",
    "    res['heat-cool'].append(\"sogutma\")"
   ]
  },
  {
   "cell_type": "code",
   "execution_count": 24,
   "metadata": {},
   "outputs": [
    {
     "data": {
      "text/html": [
       "<div>\n",
       "<style scoped>\n",
       "    .dataframe tbody tr th:only-of-type {\n",
       "        vertical-align: middle;\n",
       "    }\n",
       "\n",
       "    .dataframe tbody tr th {\n",
       "        vertical-align: top;\n",
       "    }\n",
       "\n",
       "    .dataframe thead th {\n",
       "        text-align: right;\n",
       "    }\n",
       "</style>\n",
       "<table border=\"1\" class=\"dataframe\">\n",
       "  <thead>\n",
       "    <tr style=\"text-align: right;\">\n",
       "      <th></th>\n",
       "      <th>model</th>\n",
       "      <th>train_rmse</th>\n",
       "      <th>test_rmse</th>\n",
       "      <th>heat-cool</th>\n",
       "    </tr>\n",
       "  </thead>\n",
       "  <tbody>\n",
       "    <tr>\n",
       "      <th>0</th>\n",
       "      <td>LinearRegression</td>\n",
       "      <td>2.748155</td>\n",
       "      <td>3.289210</td>\n",
       "      <td>ısıtma</td>\n",
       "    </tr>\n",
       "    <tr>\n",
       "      <th>1</th>\n",
       "      <td>LinearRegression</td>\n",
       "      <td>3.032128</td>\n",
       "      <td>3.520408</td>\n",
       "      <td>sogutma</td>\n",
       "    </tr>\n",
       "    <tr>\n",
       "      <th>2</th>\n",
       "      <td>Lasso</td>\n",
       "      <td>4.442483</td>\n",
       "      <td>4.921447</td>\n",
       "      <td>ısıtma</td>\n",
       "    </tr>\n",
       "    <tr>\n",
       "      <th>3</th>\n",
       "      <td>Lasso</td>\n",
       "      <td>4.355642</td>\n",
       "      <td>4.784092</td>\n",
       "      <td>sogutma</td>\n",
       "    </tr>\n",
       "    <tr>\n",
       "      <th>4</th>\n",
       "      <td>Ridge</td>\n",
       "      <td>2.827995</td>\n",
       "      <td>3.369965</td>\n",
       "      <td>ısıtma</td>\n",
       "    </tr>\n",
       "    <tr>\n",
       "      <th>5</th>\n",
       "      <td>Ridge</td>\n",
       "      <td>3.124788</td>\n",
       "      <td>3.569436</td>\n",
       "      <td>sogutma</td>\n",
       "    </tr>\n",
       "    <tr>\n",
       "      <th>6</th>\n",
       "      <td>ElasticNet</td>\n",
       "      <td>4.305186</td>\n",
       "      <td>4.792449</td>\n",
       "      <td>ısıtma</td>\n",
       "    </tr>\n",
       "    <tr>\n",
       "      <th>7</th>\n",
       "      <td>ElasticNet</td>\n",
       "      <td>4.199961</td>\n",
       "      <td>4.640624</td>\n",
       "      <td>sogutma</td>\n",
       "    </tr>\n",
       "  </tbody>\n",
       "</table>\n",
       "</div>"
      ],
      "text/plain": [
       "              model  train_rmse  test_rmse heat-cool\n",
       "0  LinearRegression    2.748155   3.289210    ısıtma\n",
       "1  LinearRegression    3.032128   3.520408   sogutma\n",
       "2             Lasso    4.442483   4.921447    ısıtma\n",
       "3             Lasso    4.355642   4.784092   sogutma\n",
       "4             Ridge    2.827995   3.369965    ısıtma\n",
       "5             Ridge    3.124788   3.569436   sogutma\n",
       "6        ElasticNet    4.305186   4.792449    ısıtma\n",
       "7        ElasticNet    4.199961   4.640624   sogutma"
      ]
     },
     "execution_count": 24,
     "metadata": {},
     "output_type": "execute_result"
    }
   ],
   "source": [
    "res = pd.DataFrame(res)\n",
    "res"
   ]
  },
  {
   "cell_type": "code",
   "execution_count": 25,
   "metadata": {},
   "outputs": [],
   "source": [
    "ısıtma = res[res['heat-cool'] == 'ısıtma']"
   ]
  },
  {
   "cell_type": "code",
   "execution_count": 26,
   "metadata": {},
   "outputs": [],
   "source": [
    "sogutma = res[res['heat-cool'] == 'sogutma']"
   ]
  },
  {
   "cell_type": "code",
   "execution_count": 27,
   "metadata": {},
   "outputs": [
    {
     "data": {
      "text/plain": [
       "Text(0.5, 1.0, 'SOGUTMA')"
      ]
     },
     "execution_count": 27,
     "metadata": {},
     "output_type": "execute_result"
    },
    {
     "data": {
      "image/png": "[encoded data removed]",
      "text/plain": [
       "<Figure size 432x288 with 1 Axes>"
      ]
     },
     "metadata": {
      "needs_background": "light"
     },
     "output_type": "display_data"
    },
    {
     "data": {
      "image/png": "[encoded data removed]",
      "text/plain": [
       "<Figure size 432x288 with 1 Axes>"
      ]
     },
     "metadata": {
      "needs_background": "light"
     },
     "output_type": "display_data"
    }
   ],
   "source": [
    "\n",
    "ısıtma.set_index('model').plot(kind='bar')\n",
    "plt.title(\"ISITMA\")\n",
    "sogutma.set_index('model').plot(kind='bar')\n",
    "plt.title(\"SOGUTMA\")"
   ]
  },
  {
   "cell_type": "markdown",
   "metadata": {},
   "source": [
    "## Tuning"
   ]
  },
  {
   "cell_type": "code",
   "execution_count": 28,
   "metadata": {},
   "outputs": [],
   "source": [
    "from warnings import filterwarnings\n",
    "filterwarnings('ignore')"
   ]
  },
  {
   "cell_type": "code",
   "execution_count": 29,
   "metadata": {},
   "outputs": [],
   "source": [
    "from sklearn.linear_model import  RidgeCV, LassoCV, ElasticNetCV\n",
    "def tuning(algo,algo_cv,grid,cv=10):\n",
    "    model_cv = algo_cv(alphas=grid,cv=cv)\n",
    "    model_cv.fit(x_train,y_train)\n",
    "    model_tuned = algo(alpha=model_cv.alpha_)\n",
    "    model_tuned.fit(x_train,y_train)\n",
    "    train_rmse=np.sqrt(mean_squared_error(y_train,model_tuned.predict(x_train)))\n",
    "    test_rmse=np.sqrt(mean_squared_error(y_test,model_tuned.predict(x_test)))\n",
    "    \n",
    "    model_cv = algo_cv(alphas=grid,cv=cv)\n",
    "    model_cv.fit(X_train,Y_train)\n",
    "    model_tuned = algo(alpha=model_cv.alpha_)\n",
    "    model_tuned.fit(X_train,Y_train)\n",
    "    Train_rmse=np.sqrt(mean_squared_error(Y_train,model_tuned.predict(X_train)))\n",
    "    Test_rmse=np.sqrt(mean_squared_error(Y_test,model_tuned.predict(X_test)))\n",
    "    return ((type(algo()).__name__ , train_rmse,test_rmse),\n",
    "            (type(algo()).__name__ , train_rmse,test_rmse))\n"
   ]
  },
  {
   "cell_type": "code",
   "execution_count": 30,
   "metadata": {},
   "outputs": [],
   "source": [
    "models={Ridge: RidgeCV, Lasso:LassoCV, ElasticNet:ElasticNetCV}\n",
    "res_tuned={'model':[], 'train_rmse':[], 'test_rmse':[],'heat-cool':[]}\n",
    "alphas = [0.1,0.01, 0.005, 0.05, 0.001,0.2,0.3,0.5,0.8,0.9]\n",
    "for model in models:\n",
    "    H,C=tuning(model, models[model], alphas)\n",
    "    res_tuned['model'].append(H[0])\n",
    "    res_tuned['train_rmse'].append(H[1])\n",
    "    res_tuned['test_rmse'].append(H[2])\n",
    "    res_tuned['heat-cool'].append(\"ısıtma\")\n",
    "    res_tuned['model'].append(C[0])\n",
    "    res_tuned['train_rmse'].append(C[1])\n",
    "    res_tuned['test_rmse'].append(C[2])\n",
    "    res_tuned['heat-cool'].append(\"sogutma\")"
   ]
  },
  {
   "cell_type": "code",
   "execution_count": 31,
   "metadata": {},
   "outputs": [
    {
     "data": {
      "text/html": [
       "<div>\n",
       "<style scoped>\n",
       "    .dataframe tbody tr th:only-of-type {\n",
       "        vertical-align: middle;\n",
       "    }\n",
       "\n",
       "    .dataframe tbody tr th {\n",
       "        vertical-align: top;\n",
       "    }\n",
       "\n",
       "    .dataframe thead th {\n",
       "        text-align: right;\n",
       "    }\n",
       "</style>\n",
       "<table border=\"1\" class=\"dataframe\">\n",
       "  <thead>\n",
       "    <tr style=\"text-align: right;\">\n",
       "      <th></th>\n",
       "      <th>model</th>\n",
       "      <th>train_rmse</th>\n",
       "      <th>test_rmse</th>\n",
       "      <th>heat-cool</th>\n",
       "    </tr>\n",
       "  </thead>\n",
       "  <tbody>\n",
       "    <tr>\n",
       "      <th>0</th>\n",
       "      <td>Ridge</td>\n",
       "      <td>2.748177</td>\n",
       "      <td>3.289503</td>\n",
       "      <td>ısıtma</td>\n",
       "    </tr>\n",
       "    <tr>\n",
       "      <th>1</th>\n",
       "      <td>Ridge</td>\n",
       "      <td>2.748177</td>\n",
       "      <td>3.289503</td>\n",
       "      <td>sogutma</td>\n",
       "    </tr>\n",
       "    <tr>\n",
       "      <th>2</th>\n",
       "      <td>Lasso</td>\n",
       "      <td>2.749783</td>\n",
       "      <td>3.292792</td>\n",
       "      <td>ısıtma</td>\n",
       "    </tr>\n",
       "    <tr>\n",
       "      <th>3</th>\n",
       "      <td>Lasso</td>\n",
       "      <td>2.749783</td>\n",
       "      <td>3.292792</td>\n",
       "      <td>sogutma</td>\n",
       "    </tr>\n",
       "    <tr>\n",
       "      <th>4</th>\n",
       "      <td>ElasticNet</td>\n",
       "      <td>2.802461</td>\n",
       "      <td>3.345224</td>\n",
       "      <td>ısıtma</td>\n",
       "    </tr>\n",
       "    <tr>\n",
       "      <th>5</th>\n",
       "      <td>ElasticNet</td>\n",
       "      <td>2.802461</td>\n",
       "      <td>3.345224</td>\n",
       "      <td>sogutma</td>\n",
       "    </tr>\n",
       "  </tbody>\n",
       "</table>\n",
       "</div>"
      ],
      "text/plain": [
       "        model  train_rmse  test_rmse heat-cool\n",
       "0       Ridge    2.748177   3.289503    ısıtma\n",
       "1       Ridge    2.748177   3.289503   sogutma\n",
       "2       Lasso    2.749783   3.292792    ısıtma\n",
       "3       Lasso    2.749783   3.292792   sogutma\n",
       "4  ElasticNet    2.802461   3.345224    ısıtma\n",
       "5  ElasticNet    2.802461   3.345224   sogutma"
      ]
     },
     "execution_count": 31,
     "metadata": {},
     "output_type": "execute_result"
    }
   ],
   "source": [
    "res_tuned=pd.DataFrame(res_tuned)\n",
    "res_tuned"
   ]
  },
  {
   "cell_type": "code",
   "execution_count": 32,
   "metadata": {},
   "outputs": [
    {
     "data": {
      "text/plain": [
       "Text(0.5, 1.0, 'SOGUTMA')"
      ]
     },
     "execution_count": 32,
     "metadata": {},
     "output_type": "execute_result"
    },
    {
     "data": {
      "image/png": "[encoded data removed]",
      "text/plain": [
       "<Figure size 432x288 with 1 Axes>"
      ]
     },
     "metadata": {
      "needs_background": "light"
     },
     "output_type": "display_data"
    },
    {
     "data": {
      "image/png": "[encoded data removed]",
      "text/plain": [
       "<Figure size 432x288 with 1 Axes>"
      ]
     },
     "metadata": {
      "needs_background": "light"
     },
     "output_type": "display_data"
    }
   ],
   "source": [
    "ısıtma = res_tuned[res_tuned['heat-cool'] == 'ısıtma']\n",
    "sogutma = res_tuned[res_tuned['heat-cool'] == 'sogutma']\n",
    "\n",
    "ısıtma.set_index('model').plot(kind='bar')\n",
    "plt.title(\"ISITMA\")\n",
    "sogutma.set_index('model').plot(kind='bar')\n",
    "plt.title(\"SOGUTMA\")"
   ]
  },
  {
   "cell_type": "code",
   "execution_count": null,
   "metadata": {},
   "outputs": [],
   "source": []
  }
 ],
 "metadata": {
  "kernelspec": {
   "display_name": "Python 3",
   "language": "python",
   "name": "python3"
  },
  "language_info": {
   "codemirror_mode": {
    "name": "ipython",
    "version": 3
   },
   "file_extension": ".py",
   "mimetype": "text/x-python",
   "name": "python",
   "nbconvert_exporter": "python",
   "pygments_lexer": "ipython3",
   "version": "3.8.3"
  }
 },
 "nbformat": 4,
 "nbformat_minor": 4
}
